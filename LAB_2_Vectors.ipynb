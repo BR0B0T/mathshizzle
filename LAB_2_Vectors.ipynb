{
 "cells": [
  {
   "cell_type": "markdown",
   "id": "766170b3-59c2-4d6d-a224-fbe97ef73b5a",
   "metadata": {},
   "source": [
    "<br>\n",
    "\n",
    "<div class=\"parent_div\" style=\"text-align:center;\">\n",
    "<img src=\"output.png\" width=\"400\" >\n",
    "</div>\n",
    "\n",
    "<br>"
   ]
  },
  {
   "cell_type": "code",
   "execution_count": null,
   "id": "4dee6f2c-54f3-4df9-9770-40a93f05b592",
   "metadata": {},
   "outputs": [],
   "source": []
  }
 ],
 "metadata": {
  "kernelspec": {
   "display_name": "Python 3 (ipykernel)",
   "language": "python",
   "name": "python3"
  },
  "language_info": {
   "codemirror_mode": {
    "name": "ipython",
    "version": 3
   },
   "file_extension": ".py",
   "mimetype": "text/x-python",
   "name": "python",
   "nbconvert_exporter": "python",
   "pygments_lexer": "ipython3",
   "version": "3.12.2"
  }
 },
 "nbformat": 4,
 "nbformat_minor": 5
}
