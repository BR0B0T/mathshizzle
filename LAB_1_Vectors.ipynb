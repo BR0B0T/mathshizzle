{
 "cells": [
  {
   "cell_type": "markdown",
   "id": "751d2696-8f2a-41f4-ade8-537939f4e2b8",
   "metadata": {},
   "source": [
    "# 📌 **What Is a Vector in Linear Algebra?**\n",
    "\n",
    "In linear algebra, a vector is a mathematical object that has both magnitude and direction. It is typically represented as an ordered list of numbers and can exist in 2D, 3D, or n-dimensional space.\n",
    "\n",
    "<br>\n",
    "\n",
    "<div class=\"parent_div\" style=\"text-align:center;\">\n",
    "<img src=\"v_vectors.png\" width=\"350\" >\n",
    "</div>\n",
    "\n",
    "\n",
    "### 👉 **In Simple Terms**\n",
    "\n",
    "In linear algebra, a vector is just a list of numbers that tells you how far and in what direction to move.\n",
    "\n",
    "You can think of a vector like an arrow pointing from one place to another. It has:\n",
    "\n",
    "* **Direction** (where it's pointing)\n",
    "* **Magnitude** (how long it is)\n",
    "\n",
    "\n",
    "\n",
    "### 🧭 Example (2D Vector):\n",
    "\n",
    "Take a look at the graph of **v** vectors above, you can see several arrows ($\\vec{v}$) of the same size pointing in the same direction\n",
    "\n",
    "$$\n",
    "\\vec{v} = \\begin{bmatrix} -2 \\\\ 3 \\end{bmatrix}\n",
    "$$\n",
    "\n",
    "This means:\n",
    "\n",
    "* Go **2 steps left**\n",
    "* Go **3 steps up**\n",
    "\n",
    "That’s a vector in 2D space!\n",
    "\n",
    "\n",
    "\n",
    "\n",
    "\n"
   ]
  },
  {
   "cell_type": "markdown",
   "id": "7fd6225f-e2ef-44f2-9995-6a568f1dda2f",
   "metadata": {},
   "source": [
    "### 🔍 **What is SymPy?**\n",
    "\n",
    "SymPy is a Python library for symbolic mathematics,meaning it can manipulate algebraic expressions and equations symbolically, not just numerically like NumPy or SciPy. It will be great in the following examples to show what's happening symbolically but it's much more more likely that I'd use NumPy for calculations"
   ]
  },
  {
   "cell_type": "code",
   "execution_count": 48,
   "id": "50c4ad87-13c7-436f-8e61-2afc5503a79c",
   "metadata": {},
   "outputs": [],
   "source": [
    "import numpy as np\n",
    "import sympy as sy\n",
    "import matplotlib.pyplot as plt"
   ]
  },
  {
   "cell_type": "markdown",
   "id": "5434aff1-d4f9-43e9-8fc7-3fb07a7c6269",
   "metadata": {},
   "source": [
    "There are several ways to create arrays in NumPy. The first `asArray` is a one-dimensional array in NumPy, meaning it has no specific orientation. It's neither a row vector nor a column vector, just a simple list of numbers."
   ]
  },
  {
   "cell_type": "code",
   "execution_count": 15,
   "id": "3d868e64-9692-48e6-aedd-477aef058e6b",
   "metadata": {},
   "outputs": [
    {
     "data": {
      "text/plain": [
       "array([1, 2, 3])"
      ]
     },
     "execution_count": 15,
     "metadata": {},
     "output_type": "execute_result"
    }
   ],
   "source": [
    "asArray = np.array([1,2,3]) \n",
    "asArray"
   ]
  },
  {
   "cell_type": "markdown",
   "id": "191b9b33-6082-48a7-bc22-4c93e57f0de3",
   "metadata": {},
   "source": [
    "## 🎯 **What Is Orientation in Linear Algebra?**\n",
    "\n",
    "In linear algebra, orientation refers to the ordering and direction of vectors or coordinate systems in space. It helps us describe whether a system or transformation preserves the \"handedness\" or geometric arrangement of space.\n",
    "\n",
    "### 🔹 **Orientation of Vectors**\n",
    "\n",
    "When dealing with vectors in NumPy or programming, **orientation** usually means whether the vector is:\n",
    "\n",
    "* A **row vector**: $1 \\times n$\n",
    "\n",
    "  $$\n",
    "  [x_1, x_2, ..., x_n]\n",
    "  $$\n",
    "* A **column vector**: $n \\times 1$\n",
    "\n",
    "  $$\n",
    "  \\begin{bmatrix}\n",
    "  x_1 \\\\\n",
    "  x_2 \\\\\n",
    "  \\vdots \\\\\n",
    "  x_n\n",
    "  \\end{bmatrix}\n",
    "  $$\n",
    "\n",
    "In pure math, vectors are often assumed to be **column vectors** unless stated otherwise."
   ]
  },
  {
   "cell_type": "markdown",
   "id": "a0fed164-ecf7-4f46-9354-298c0559f417",
   "metadata": {},
   "source": [
    "In NumPy, orientation is indicated by brackets. The outermost brackets define the array as a single object, and each additional pair of brackets represents a row. A row vector (e.g., rowVec) places all numbers in a single row, "
   ]
  },
  {
   "cell_type": "code",
   "execution_count": 16,
   "id": "9302c72b-21fd-4360-bb3d-bcc627877752",
   "metadata": {},
   "outputs": [
    {
     "data": {
      "text/plain": [
       "array([[1, 2, 3]])"
      ]
     },
     "execution_count": 16,
     "metadata": {},
     "output_type": "execute_result"
    }
   ],
   "source": [
    "rowVec = np.array([[1,2,3]])\n",
    "rowVec"
   ]
  },
  {
   "cell_type": "markdown",
   "id": "5a0e01c9-c6b1-4b82-83d2-a4a6255ddbc1",
   "metadata": {},
   "source": [
    "whereas a column vector (e.g., colVec) uses multiple rows, each containing just one number"
   ]
  },
  {
   "cell_type": "code",
   "execution_count": 18,
   "id": "f2e47108-034a-433b-86cb-1e0479d21845",
   "metadata": {},
   "outputs": [
    {
     "data": {
      "text/plain": [
       "array([[1],\n",
       "       [2],\n",
       "       [3]])"
      ]
     },
     "execution_count": 18,
     "metadata": {},
     "output_type": "execute_result"
    }
   ],
   "source": [
    "colVec = np.array([[1],[2],[3]])\n",
    "colVec"
   ]
  },
  {
   "cell_type": "markdown",
   "id": "5ef76751-4db4-4bf7-a789-49335b8e574d",
   "metadata": {},
   "source": [
    "# ✖️➗ **Basic Vector Operations**\n",
    "\n",
    "<br>\n",
    "\n",
    "<div class=\"parent_div\" style=\"text-align:center;\">\n",
    "<img src=\"op_shad.png\" width=\"250\" >\n",
    "</div>\n",
    "\n",
    "<br>"
   ]
  },
  {
   "cell_type": "markdown",
   "id": "4af33c51-1566-4fda-9800-1af36bf0f37a",
   "metadata": {},
   "source": [
    "## ➕ **Adding Two Vectors in Linear Algebra**\n",
    "\n",
    "**Vector addition** is a basic operation where you add two vectors **component by component**.\n",
    "\n",
    "\n",
    "### ✅ How It Works\n",
    "\n",
    "If you have two vectors:\n",
    "\n",
    "$$\n",
    "\\vec{a} = \\begin{bmatrix} a_1 \\\\ a_2 \\\\ \\vdots \\\\ a_n \\end{bmatrix}, \\quad\n",
    "\\vec{b} = \\begin{bmatrix} b_1 \\\\ b_2 \\\\ \\vdots \\\\ b_n \\end{bmatrix}\n",
    "$$\n",
    "\n",
    "Then their **sum** is:\n",
    "\n",
    "$$\n",
    "\\vec{a} + \\vec{b} = \\begin{bmatrix}\n",
    "a_1 + b_1 \\\\\n",
    "a_2 + b_2 \\\\\n",
    "\\vdots \\\\\n",
    "a_n + b_n\n",
    "\\end{bmatrix}\n",
    "$$"
   ]
  },
  {
   "cell_type": "markdown",
   "id": "73209782-c48b-4c6d-b2c8-55d3a385992f",
   "metadata": {},
   "source": [
    "## 🎯 **Examples**\n",
    "\n",
    "Let's see some examples using the SymPy library\n",
    "\n",
    "#### 🧠 What Are sympy.symbols?\n",
    "\n",
    "In SymPy, symbols are used to define mathematical variables for symbolic computation (like $x$, $y$, $z$).\n",
    "\n",
    "#### ✅ Basic Usage:\n",
    "\n",
    "```python\n",
    "from sympy import symbols\n",
    "\n",
    "x = symbols('x')\n",
    "```\n",
    "\n",
    "Now `x` is treated as a symbolic variable, not a number.\n",
    "\n",
    "It's probably easier to define all the letters as symbols at this stage to allow for repeated use. "
   ]
  },
  {
   "cell_type": "code",
   "execution_count": 20,
   "id": "eb09dfa9-7250-440e-a34c-fdc044e8c863",
   "metadata": {},
   "outputs": [],
   "source": [
    "a, b, c, d, e, f, g, h, i, j, k, l, m, n, o, p, q, r, s, t, u, v, w, x, y, z = sy.symbols('a, b, c, d, e, f, g, h, i, j, k, l, m, n, o, p, q, r, s, t, u, v, w, x, y, z', real = True)"
   ]
  },
  {
   "cell_type": "markdown",
   "id": "81c603bf-5637-4806-a4c2-2365dfc4b1da",
   "metadata": {},
   "source": [
    "In SymPy, you can define vectors either as a Matrix (usually a column vector) or using the vector module for more advanced geometric/vector calculus operations. \n",
    "\n",
    "First, let's define two vectors $A$ & $B$"
   ]
  },
  {
   "cell_type": "code",
   "execution_count": 22,
   "id": "4701d5dd-6e50-4c5a-817a-3abb37e4cb1c",
   "metadata": {},
   "outputs": [
    {
     "data": {
      "text/latex": [
       "$\\displaystyle \\left[\\begin{matrix}a\\\\b\\\\c\\end{matrix}\\right]$"
      ],
      "text/plain": [
       "Matrix([\n",
       "[a],\n",
       "[b],\n",
       "[c]])"
      ]
     },
     "execution_count": 22,
     "metadata": {},
     "output_type": "execute_result"
    }
   ],
   "source": [
    "A = sy.Matrix([a, b, c])\n",
    "A"
   ]
  },
  {
   "cell_type": "code",
   "execution_count": 23,
   "id": "a13dbf10-33b3-48bd-a9e3-930c284d4eb9",
   "metadata": {},
   "outputs": [
    {
     "data": {
      "text/latex": [
       "$\\displaystyle \\left[\\begin{matrix}d\\\\e\\\\f\\end{matrix}\\right]$"
      ],
      "text/plain": [
       "Matrix([\n",
       "[d],\n",
       "[e],\n",
       "[f]])"
      ]
     },
     "execution_count": 23,
     "metadata": {},
     "output_type": "execute_result"
    }
   ],
   "source": [
    "B = sy.Matrix([d, e, f])\n",
    "B"
   ]
  },
  {
   "cell_type": "markdown",
   "id": "a15ab2f5-2c04-47fa-894f-c0016c960c5d",
   "metadata": {},
   "source": [
    "Now we can simply add the two together..."
   ]
  },
  {
   "cell_type": "code",
   "execution_count": 25,
   "id": "b4d658ff-db94-4dd2-8fd2-09f313c296e6",
   "metadata": {},
   "outputs": [
    {
     "data": {
      "text/latex": [
       "$\\displaystyle \\left[\\begin{matrix}a + d\\\\b + e\\\\c + f\\end{matrix}\\right]$"
      ],
      "text/plain": [
       "Matrix([\n",
       "[a + d],\n",
       "[b + e],\n",
       "[c + f]])"
      ]
     },
     "execution_count": 25,
     "metadata": {},
     "output_type": "execute_result"
    }
   ],
   "source": [
    "A + B"
   ]
  },
  {
   "cell_type": "markdown",
   "id": "77ded4e1-fd2a-492a-89b5-53f7cdcda804",
   "metadata": {},
   "source": [
    "### 🎯 Key Rules:\n",
    "\n",
    "* Vectors must be the **same size** (same number of components).\n",
    "* Addition is **commutative**: $\\vec{a} + \\vec{b} = \\vec{b} + \\vec{a}$\n",
    "* It is also **associative**: $(\\vec{a} + \\vec{b}) + \\vec{c} = \\vec{a} + (\\vec{b} + \\vec{c})$\n",
    "\n",
    "### 💡 Visual Intuition:\n",
    "\n",
    "Imagine each vector as an arrow. Adding them means placing one arrow at the tip of the other, the resulting arrow (from start to final tip) is the **sum**.\n",
    "\n",
    "<br>\n",
    "\n",
    "<div class=\"parent_div\" style=\"text-align:center;\">\n",
    "<img src=\"LA_2_add_vectors.png\" width=\"800\" >\n",
    "</div>\n",
    "\n",
    "<br>\n",
    "\n",
    "\n",
    "Subtracting two vectors, $\\vec{a} - \\vec{b}$, means you're finding the vector that points from $\\vec{b}$ to $\\vec{a}$.\n",
    "\n",
    "#### 🧭 **Geometric Interpretation:**\n",
    "\n",
    "Imagine vectors as arrows from the origin:\n",
    "\n",
    "* Draw $\\vec{a}$ and $\\vec{b}$ starting at the origin.\n",
    "* The vector $\\vec{a} - \\vec{b}$ is the arrow that goes from the tip of $\\vec{b}$ to the tip of $\\vec{a}$.\n",
    "\n",
    "\n",
    "<br>\n",
    "<br>"
   ]
  },
  {
   "cell_type": "markdown",
   "id": "793d3b75-92fc-4363-8dff-7e58d9c18108",
   "metadata": {},
   "source": [
    "## ✴️ **Vector–Scalar Multiplication (Scaling a Vector)**\n",
    "\n",
    "In linear algebra, vector–scalar multiplication means multiplying a vector by a single number (called a scalar). This operation scales the vector, changing its length, but not its direction (unless the scalar is negative).\n",
    "\n",
    "\n",
    "\n",
    "### ✅ **How It Works:**\n",
    "\n",
    "If:\n",
    "\n",
    "$$\n",
    "\\vec{v} = \\begin{bmatrix} x_1 \\\\ x_2 \\\\ \\vdots \\\\ x_n \\end{bmatrix}, \\quad \\text{and} \\quad c \\in \\mathbb{R} \\ (\\text{a scalar})\n",
    "$$\n",
    "\n",
    "Then:\n",
    "\n",
    "$$\n",
    "c \\cdot \\vec{v} = \\begin{bmatrix} c \\cdot x_1 \\\\ c \\cdot x_2 \\\\ \\vdots \\\\ c \\cdot x_n \\end{bmatrix}\n",
    "$$\n",
    "\n",
    "\n",
    "### 💡 In Simple Terms:\n",
    "\n",
    "> You're resizing the vector while keeping it pointing the same way (or the opposite way, if the scalar is negative).\n",
    "\n",
    "\n"
   ]
  },
  {
   "cell_type": "markdown",
   "id": "9eb4c3be-437d-4caf-b1bd-71f62c2aabad",
   "metadata": {},
   "source": [
    "An example using symbols with SymPy"
   ]
  },
  {
   "cell_type": "code",
   "execution_count": 28,
   "id": "2c832126-194f-496e-b1d0-26dbb07065f0",
   "metadata": {},
   "outputs": [
    {
     "data": {
      "text/latex": [
       "$\\displaystyle \\left[\\begin{matrix}c x\\\\c y\\\\c z\\end{matrix}\\right]$"
      ],
      "text/plain": [
       "Matrix([\n",
       "[c*x],\n",
       "[c*y],\n",
       "[c*z]])"
      ]
     },
     "execution_count": 28,
     "metadata": {},
     "output_type": "execute_result"
    }
   ],
   "source": [
    "V = sy.Matrix([x, y, z])\n",
    "c * V"
   ]
  },
  {
   "cell_type": "markdown",
   "id": "2448bf0b-9afe-4ece-898a-4c0f07ac9189",
   "metadata": {},
   "source": [
    "...and numerically with NumPy"
   ]
  },
  {
   "cell_type": "code",
   "execution_count": 32,
   "id": "e5b5c025-9b42-4945-a3af-491ad71cfb98",
   "metadata": {},
   "outputs": [
    {
     "data": {
      "text/plain": [
       "array([[2],\n",
       "       [4],\n",
       "       [6]])"
      ]
     },
     "execution_count": 32,
     "metadata": {},
     "output_type": "execute_result"
    }
   ],
   "source": [
    "c = 2\n",
    "V = np.array([[1],[2],[3]])\n",
    "\n",
    "c * V"
   ]
  },
  {
   "cell_type": "markdown",
   "id": "3f607be2-a220-4e65-89f6-dbead3b2de17",
   "metadata": {},
   "source": [
    "The code below shows the effect of scalar multiplication."
   ]
  },
  {
   "cell_type": "code",
   "execution_count": 52,
   "id": "b96a0608-dc69-41b8-b913-bef27a10819f",
   "metadata": {},
   "outputs": [
    {
     "data": {
      "image/png": "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",
      "text/plain": [
       "<Figure size 1200x300 with 5 Axes>"
      ]
     },
     "metadata": {},
     "output_type": "display_data"
    }
   ],
   "source": [
    "scalars = [1, 2, 1/3, 0, -2/3]\n",
    "baseVector = np.array([.75, 1])\n",
    "\n",
    "fig,axs = plt.subplots(1, len(scalars), figsize=(12,3))\n",
    "i = 0 # axis counter\n",
    "\n",
    "for s in scalars:\n",
    "  v = s*baseVector\n",
    "  axs[i].arrow(0, 0, baseVector[0], baseVector[1], head_width=.3, width=.1, color='k', length_includes_head=True)\n",
    "  axs[i].arrow(.1, 0, v[0], v[1], head_width=.3, width=.1, color=[.75,.75,.75], length_includes_head=True)\n",
    "  axs[i].grid(linestyle='--')\n",
    "  axs[i].axis('square')\n",
    "  axs[i].axis([-2.5, 2.5, -2.5, 2.5])\n",
    "  axs[i].set(xticks=np.arange(-2, 3), yticks=np.arange(-2, 3))\n",
    "  axs[i].set_title(f' = {s:.2f}')\n",
    "  i+=1 # update axis counter\n",
    "\n",
    "plt.show()"
   ]
  },
  {
   "cell_type": "markdown",
   "id": "b31e37ac-522a-4e1f-9272-ed7aff265a7e",
   "metadata": {},
   "source": [
    "### **Scalar–Vector Addition**\n",
    "\n",
    "In formal linear algebra, adding a scalar to a vector is not defined, since scalars and vectors are fundamentally different mathematical objects. However, in numerical computing environments like Python, this operation is allowed: the scalar is simply added to each element of the vector. The code below demonstrates this concept:"
   ]
  },
  {
   "cell_type": "code",
   "execution_count": 33,
   "id": "7999d59b-1628-4462-8921-923726cedc4c",
   "metadata": {},
   "outputs": [
    {
     "data": {
      "text/plain": [
       "array([[3],\n",
       "       [4],\n",
       "       [5]])"
      ]
     },
     "execution_count": 33,
     "metadata": {},
     "output_type": "execute_result"
    }
   ],
   "source": [
    "c = 2\n",
    "V = np.array([[1],[2],[3]])\n",
    "\n",
    "c + V"
   ]
  },
  {
   "cell_type": "markdown",
   "id": "e58d1a9a-75b7-4393-bc84-c1e090101069",
   "metadata": {},
   "source": [
    "## 🔄 **Vector Transpose in Linear Algebra**\n",
    "\n",
    "In linear algebra, the transpose of a vector changes its orientation:\n",
    "\n",
    "* A row vector becomes a column vector\n",
    "* A column vector becomes a row vector\n",
    "\n",
    "\n",
    "\n",
    "### ✅ Definition:\n",
    "\n",
    "If you have a column vector:\n",
    "\n",
    "$$\n",
    "\\vec{v} = \\begin{bmatrix} x_1 \\\\ x_2 \\\\ x_3 \\end{bmatrix}\n",
    "$$\n",
    "\n",
    "Its transpose is a row vector:\n",
    "\n",
    "$$\n",
    "\\vec{v}^T = [x_1 \\quad x_2 \\quad x_3]\n",
    "$$\n",
    "\n",
    "\n",
    "\n",
    "### 📌 Why It's Useful:\n",
    "\n",
    "* It allows you to **dot** (more about this later) two vectors:\n",
    "\n",
    "  $$\n",
    "  \\vec{a}^T \\vec{b}\n",
    "  $$\n",
    "* It's important for expressing matrix operations clearly.\n",
    "* Helps distinguish between row space and column space.\n",
    "\n"
   ]
  },
  {
   "cell_type": "code",
   "execution_count": 40,
   "id": "61636a85-0acc-4861-a0de-cf72d389af90",
   "metadata": {},
   "outputs": [
    {
     "data": {
      "text/latex": [
       "$\\displaystyle \\left[\\begin{matrix}x\\\\y\\\\z\\end{matrix}\\right]$"
      ],
      "text/plain": [
       "Matrix([\n",
       "[x],\n",
       "[y],\n",
       "[z]])"
      ]
     },
     "execution_count": 40,
     "metadata": {},
     "output_type": "execute_result"
    }
   ],
   "source": [
    "V = sy.Matrix([x, y, z])\n",
    "V"
   ]
  },
  {
   "cell_type": "code",
   "execution_count": 41,
   "id": "c9ccbe3e-0398-4879-90ff-850891e1f711",
   "metadata": {},
   "outputs": [
    {
     "data": {
      "text/latex": [
       "$\\displaystyle \\left[\\begin{matrix}x & y & z\\end{matrix}\\right]$"
      ],
      "text/plain": [
       "Matrix([[x, y, z]])"
      ]
     },
     "execution_count": 41,
     "metadata": {},
     "output_type": "execute_result"
    }
   ],
   "source": [
    "V.T"
   ]
  },
  {
   "cell_type": "markdown",
   "id": "0f66bce0-27b9-4671-93fa-c3df7cf03547",
   "metadata": {},
   "source": [
    "## 📢 **Vector Broadcasting in Python (NumPy)**\n",
    "\n",
    "Broadcasting is a powerful feature in NumPy that lets you perform operations (like addition, multiplication) between arrays of different shapes as if they were the same shape, without manually reshaping them. When you perform an operation between a vector and a scalar, or between two arrays of compatible shapes, NumPy automatically “broadcasts” the smaller array to match the larger one.\n",
    "\n",
    "### ⚠️ **Broadcasting Rules Summary:**\n",
    "\n",
    "1. If arrays have different dimensions, prepend 1s to the smaller shape.\n",
    "2. Two dimensions are compatible if:\n",
    "\n",
    "   * They are equal, or\n",
    "   * One of them is 1\n",
    "\n",
    "\n",
    "### 🧠 Why It’s Useful:\n",
    "\n",
    "* Clean and readable code\n",
    "* No need for explicit loops or reshaping\n",
    "* Faster computations (NumPy uses optimized C code under the hood)\n",
    "\n"
   ]
  },
  {
   "cell_type": "code",
   "execution_count": 43,
   "id": "3887f842-e2bd-4f73-8170-f600d8b4da9f",
   "metadata": {},
   "outputs": [
    {
     "data": {
      "text/plain": [
       "array([[1],\n",
       "       [2],\n",
       "       [3]])"
      ]
     },
     "execution_count": 43,
     "metadata": {},
     "output_type": "execute_result"
    }
   ],
   "source": [
    "v = np.array([[1,2,3]]).T \n",
    "v"
   ]
  },
  {
   "cell_type": "code",
   "execution_count": 44,
   "id": "9a278af6-37b0-4743-8620-c38c7b24628c",
   "metadata": {},
   "outputs": [
    {
     "data": {
      "text/plain": [
       "array([[10, 20]])"
      ]
     },
     "execution_count": 44,
     "metadata": {},
     "output_type": "execute_result"
    }
   ],
   "source": [
    "w = np.array([[10,20]]) \n",
    "w"
   ]
  },
  {
   "cell_type": "code",
   "execution_count": 45,
   "id": "705e269a-a4c3-4ee5-a513-e6e9124376a5",
   "metadata": {},
   "outputs": [
    {
     "data": {
      "text/plain": [
       "array([[11, 21],\n",
       "       [12, 22],\n",
       "       [13, 23]])"
      ]
     },
     "execution_count": 45,
     "metadata": {},
     "output_type": "execute_result"
    }
   ],
   "source": [
    " v + w"
   ]
  },
  {
   "cell_type": "markdown",
   "id": "49501e5b-26d3-41f2-876b-5ddc84bacdd9",
   "metadata": {},
   "source": [
    "## **Vector Magnitude and Unit Vectors**\n",
    "\n",
    "\n",
    "### 🔹 **1. Vector Magnitude (Length)**\n",
    "\n",
    "The magnitude (or norm) of a vector is a measure of its length in space.\n",
    "\n",
    "#### Formula (Euclidean norm):\n",
    "\n",
    "For a vector $\\vec{v} = [v_1, v_2, \\dots, v_n]$:\n",
    "\n",
    "$$\n",
    "\\|\\vec{v}\\| = \\sqrt{v_1^2 + v_2^2 + \\cdots + v_n^2}\n",
    "$$\n",
    "\n",
    "\n",
    "#### 🧭 Example:\n",
    "\n",
    "$$\n",
    "\\vec{v} = [3, 4] \\Rightarrow \\|\\vec{v}\\| = \\sqrt{3^2 + 4^2} = \\sqrt{9 + 16} = 5\n",
    "$$\n",
    "\n",
    "\n",
    "### 🔹 **2. Unit Vector**\n",
    "\n",
    "A unit vector has a magnitude of 1 and points in the same direction as the original vector.\n",
    "\n",
    "#### Formula:\n",
    "\n",
    "$$\n",
    "\\hat{v} = \\frac{\\vec{v}}{\\|\\vec{v}\\|}\n",
    "$$\n",
    "\n",
    "This process is called normalizing the vector.\n",
    "\n",
    "\n",
    "#### 🧭 Example:\n",
    "\n",
    "$$\n",
    "\\vec{v} = [3, 4], \\quad \\|\\vec{v}\\| = 5\n",
    "$$\n",
    "\n",
    "$$\n",
    "\\hat{v} = \\left[ \\frac{3}{5}, \\frac{4}{5} \\right]\n",
    "$$\n",
    "\n",
    "\n",
    "\n"
   ]
  },
  {
   "cell_type": "markdown",
   "id": "57e37f1c-1bb7-4d71-a5da-1eed5f9f0c06",
   "metadata": {},
   "source": [
    "How to calculate the unit vector in NumPy"
   ]
  },
  {
   "cell_type": "code",
   "execution_count": 54,
   "id": "c003519b-9ab4-4e77-99d1-8cc69b93c280",
   "metadata": {},
   "outputs": [
    {
     "data": {
      "text/plain": [
       "array([0.6, 0.8])"
      ]
     },
     "execution_count": 54,
     "metadata": {},
     "output_type": "execute_result"
    }
   ],
   "source": [
    "v = np.array([3, 4])\n",
    "\n",
    "magnitude = np.linalg.norm(v)\n",
    "unit_vector = v / magnitude\n",
    "\n",
    "unit_vector"
   ]
  },
  {
   "cell_type": "markdown",
   "id": "098e28a3-bed2-41be-aec0-30c352cc544b",
   "metadata": {},
   "source": [
    "## 🔸 **The Vector Dot Product**\n",
    "\n",
    "The dot product (also called the **scalar product**) is an operation that takes two vectors and returns a single number (scalar). It combines both algebraic and geometric meanings.\n",
    "\n",
    "\n",
    "\n",
    "#### ✅ **Algebraic Definition**\n",
    "\n",
    "For two vectors of the same size:\n",
    "\n",
    "$$\n",
    "\\vec{a} = [a_1, a_2, \\dots, a_n], \\quad \\vec{b} = [b_1, b_2, \\dots, b_n]\n",
    "$$\n",
    "\n",
    "The dot product is:\n",
    "\n",
    "$$\n",
    "\\vec{a} \\cdot \\vec{b} = a_1b_1 + a_2b_2 + \\cdots + a_nb_n\n",
    "$$\n",
    "\n",
    "\n",
    "\n",
    "#### 🧭 **Example:**\n",
    "\n",
    "$$\n",
    "\\vec{a} = [2, 3], \\quad \\vec{b} = [4, 5]\n",
    "$$\n",
    "\n",
    "$$\n",
    "\\vec{a} \\cdot \\vec{b} = 2 \\cdot 4 + 3 \\cdot 5 = 8 + 15 = 23\n",
    "$$\n",
    "\n",
    "\n",
    "\n",
    "#### 📐 **Geometric Definition**\n",
    "\n",
    "$$\n",
    "\\vec{a} \\cdot \\vec{b} = \\|\\vec{a}\\| \\|\\vec{b}\\| \\cos(\\theta)\n",
    "$$\n",
    "\n",
    "Where:\n",
    "\n",
    "* $\\|\\vec{a}\\|$ and $\\|\\vec{b}\\|$ are the magnitudes of the vectors\n",
    "* $\\theta$ is the angle between them\n",
    "\n",
    "\n",
    "#### 🔍 **Geometric Meaning:**\n",
    "\n",
    "* Measures **how much two vectors point in the same direction**\n",
    "* $\\vec{a} \\cdot \\vec{b} > 0$: angle < 90°, vectors point roughly the same way\n",
    "* $\\vec{a} \\cdot \\vec{b} = 0$: vectors are orthogonal (perpendicular)\n",
    "* $\\vec{a} \\cdot \\vec{b} < 0$: angle > 90°, vectors point opposite ways\n",
    "\n",
    "The following code shows how to calculate the "
   ]
  },
  {
   "cell_type": "code",
   "execution_count": 56,
   "id": "98d436d0-d35f-4ccc-802a-47b2244ed2b6",
   "metadata": {},
   "outputs": [
    {
     "data": {
      "text/plain": [
       "23"
      ]
     },
     "execution_count": 56,
     "metadata": {},
     "output_type": "execute_result"
    }
   ],
   "source": [
    "a = np.array([2, 3])\n",
    "b = np.array([4, 5])\n",
    "\n",
    "dot_product = np.dot(a, b)  # or a @ b\n",
    "dot_product"
   ]
  },
  {
   "cell_type": "markdown",
   "id": "93e645e9-e6f3-475d-b3a7-953ece093817",
   "metadata": {},
   "source": [
    "The dot product can be interpreted as a measure of similarity between two vectors. For example, if you collected height and weight data from 20 people and stored them in two vectors, you'd expect a large dot product since those variables are often positively related (taller individuals tend to weigh more).\n",
    "\n",
    "However, the magnitude of the dot product depends on the scale of the data. For instance, using grams and centimeters would yield a larger dot product than using pounds and feet. This scaling issue can be resolved by normalizing the vectors. When the dot product is computed on normalized data, the result is the Pearson correlation coefficient, which measures the strength of a linear relationship regardless of units."
   ]
  },
  {
   "cell_type": "markdown",
   "id": "9960e821-553f-4b6f-bc6e-f0768e1b6fc6",
   "metadata": {},
   "source": [
    "## ✴️ **Hadamard Multiplication of Vectors (Element-wise Multiplication)**\n",
    "\n",
    "Hadamard multiplication for vectors means multiplying each corresponding element of two vectors of the same length. The result is a new vector of the same length.\n",
    "\n",
    "\n",
    "#### ✅ **Definition**\n",
    "\n",
    "For vectors:\n",
    "\n",
    "$$\n",
    "\\vec{a} = [a_1, a_2, ..., a_n], \\quad\n",
    "\\vec{b} = [b_1, b_2, ..., b_n]\n",
    "$$\n",
    "\n",
    "The Hadamard (element-wise) product is:\n",
    "\n",
    "$$\n",
    "\\vec{a} \\circ \\vec{b} = [a_1 \\cdot b_1, \\ a_2 \\cdot b_2, \\ ..., \\ a_n \\cdot b_n]\n",
    "$$\n",
    "\n",
    "\n",
    "#### 🧭 **Example:**\n",
    "\n",
    "$$\n",
    "\\vec{a} = [2, 4, 6], \\quad\n",
    "\\vec{b} = [1, 3, 5]\n",
    "$$\n",
    "\n",
    "$$\n",
    "\\vec{a} \\circ \\vec{b} = [2 \\cdot 1, \\ 4 \\cdot 3, \\ 6 \\cdot 5] = [2, 12, 30]\n",
    "$$\n",
    "\n",
    "In NumPy:\n",
    "\n",
    "\n"
   ]
  },
  {
   "cell_type": "code",
   "execution_count": 58,
   "id": "cead449c-9e25-4481-a4b6-5f5236b37dd1",
   "metadata": {},
   "outputs": [
    {
     "data": {
      "text/plain": [
       "array([ 2, 12, 30])"
      ]
     },
     "execution_count": 58,
     "metadata": {},
     "output_type": "execute_result"
    }
   ],
   "source": [
    "a = np.array([2, 4, 6])\n",
    "b = np.array([1, 3, 5])\n",
    "\n",
    "result = a * b  # Hadamard (element-wise) multiplication\n",
    "result"
   ]
  },
  {
   "cell_type": "markdown",
   "id": "6d010137-2a63-4c27-a27a-3bdbab4cbb5d",
   "metadata": {},
   "source": [
    "In SymPy"
   ]
  },
  {
   "cell_type": "code",
   "execution_count": 63,
   "id": "c372085a-bf7d-43b6-80c3-208354cf405a",
   "metadata": {},
   "outputs": [
    {
     "data": {
      "text/latex": [
       "$\\displaystyle \\left[\\begin{matrix}2\\\\12\\\\30\\end{matrix}\\right]$"
      ],
      "text/plain": [
       "Matrix([\n",
       "[ 2],\n",
       "[12],\n",
       "[30]])"
      ]
     },
     "execution_count": 63,
     "metadata": {},
     "output_type": "execute_result"
    }
   ],
   "source": [
    "a = sy.Matrix([2, 4, 6])\n",
    "b = sy.Matrix([1, 3, 5])\n",
    "\n",
    "result = a.multiply_elementwise(b)\n",
    "result"
   ]
  },
  {
   "cell_type": "markdown",
   "id": "ad6826ca-addf-4141-94cd-6117c8ae5844",
   "metadata": {},
   "source": [
    "## ✴️ **Outer Product of Vectors**\n",
    "\n",
    "The outer product of two vectors creates a matrix from all possible pairwise multiplications of their elements, one from the first vector and one from the second.\n",
    "\n",
    "\n",
    "\n",
    "#### ✅ Definition\n",
    "\n",
    "Given:\n",
    "\n",
    "* $\\vec{a}$ as a **column vector** of size $n \\times 1$\n",
    "* $\\vec{b}$ as a **row vector** of size $1 \\times m$\n",
    "\n",
    "The **outer product** is:\n",
    "\n",
    "$$\n",
    "\\vec{a} \\otimes \\vec{b} =\n",
    "\\begin{bmatrix}\n",
    "a_1 \\cdot b_1 & a_1 \\cdot b_2 & \\cdots & a_1 \\cdot b_m \\\\\n",
    "a_2 \\cdot b_1 & a_2 \\cdot b_2 & \\cdots & a_2 \\cdot b_m \\\\\n",
    "\\vdots        & \\vdots        & \\ddots & \\vdots        \\\\\n",
    "a_n \\cdot b_1 & a_n \\cdot b_2 & \\cdots & a_n \\cdot b_m \\\\\n",
    "\\end{bmatrix}\n",
    "$$\n",
    "\n",
    "\n",
    "#### 🧭 Example:\n",
    "\n",
    "Let:\n",
    "\n",
    "$$\n",
    "\\vec{a} = \\begin{bmatrix} 1 \\\\ 2 \\end{bmatrix}, \\quad\n",
    "\\vec{b} = \\begin{bmatrix} 3 & 4 & 5 \\end{bmatrix}\n",
    "$$\n",
    "\n",
    "Then:\n",
    "\n",
    "$$\n",
    "\\vec{a} \\otimes \\vec{b} =\n",
    "\\begin{bmatrix}\n",
    "1 \\cdot 3 & 1 \\cdot 4 & 1 \\cdot 5 \\\\\n",
    "2 \\cdot 3 & 2 \\cdot 4 & 2 \\cdot 5\n",
    "\\end{bmatrix}\n",
    "=\n",
    "\\begin{bmatrix}\n",
    "3 & 4 & 5 \\\\\n",
    "6 & 8 & 10\n",
    "\\end{bmatrix}\n",
    "$$\n"
   ]
  },
  {
   "cell_type": "markdown",
   "id": "615220f7-ad72-4834-8ea2-e74842f02dba",
   "metadata": {},
   "source": [
    "In NumPy:"
   ]
  },
  {
   "cell_type": "code",
   "execution_count": null,
   "id": "fe56d94d-3e7f-49d1-aac0-ef6c9e6c4ca9",
   "metadata": {},
   "outputs": [],
   "source": [
    "a = np.array([1, 2])\n",
    "b = np.array([3, 4, 5])\n",
    "\n",
    "outer = np.outer(a, b)"
   ]
  },
  {
   "cell_type": "markdown",
   "id": "f9adcf69-4603-4dd9-983a-25f9a10d2da2",
   "metadata": {},
   "source": [
    "In SymPy:"
   ]
  },
  {
   "cell_type": "code",
   "execution_count": null,
   "id": "95426735-6b67-4506-87f5-30a5bfab5627",
   "metadata": {},
   "outputs": [],
   "source": [
    "a = Matrix([1, 2])\n",
    "b = Matrix([3, 4, 5])\n",
    "\n",
    "outer = a * b.T  # a is column, b.T is row"
   ]
  },
  {
   "cell_type": "markdown",
   "id": "8418319f-683c-4322-8d4c-781dad0753fe",
   "metadata": {},
   "source": [
    "### 🔍 **Difference from Dot and Hadamard Products:**\n",
    "\n",
    "| Operation         | Result Type | Description                            |\n",
    "| ----------------- | ----------- | -------------------------------------- |\n",
    "| **Dot Product**   | Scalar      | Sum of element-wise products           |\n",
    "| **Hadamard**      | Vector      | Element-wise product                   |\n",
    "| **Outer Product** | Matrix      | All combinations of products $a_i b_j$ |"
   ]
  },
  {
   "cell_type": "markdown",
   "id": "7eb39f29-5a7c-48a4-96a4-67aaecc5b114",
   "metadata": {},
   "source": [
    "## **Orthogonal vector decomposition**"
   ]
  },
  {
   "cell_type": "code",
   "execution_count": null,
   "id": "508681a0-641f-46eb-bbba-d6001d647296",
   "metadata": {},
   "outputs": [],
   "source": []
  },
  {
   "cell_type": "code",
   "execution_count": null,
   "id": "b7fc8f4e-2769-4784-bd29-19185e08885b",
   "metadata": {},
   "outputs": [],
   "source": []
  },
  {
   "cell_type": "markdown",
   "id": "e4648ad2-38d1-4f14-9ad6-09c78c8b6148",
   "metadata": {},
   "source": [
    "Here's a diagram that visually demonstrates **orthogonal vector decomposition**:\n",
    "\n",
    "<br>\n",
    "\n",
    "<div class=\"parent_div\" style=\"text-align:center;\">\n",
    "<img src=\"output.png\" width=\"400\" >\n",
    "</div>\n",
    "\n",
    "<br>\n",
    "\n",
    "* **Blue**: Original vector $\\vec{v}$\n",
    "* **Green**: Vector $\\vec{u}$ (the direction you're projecting onto)\n",
    "* **Orange**: The **parallel component** $\\vec{v}_{\\parallel}$ — the projection of $\\vec{v}$ onto $\\vec{u}$\n",
    "* **Red**: The **orthogonal component** $\\vec{v}_{\\perp}$ — the part of $\\vec{v}$ that is perpendicular to $\\vec{u}$\n",
    "\n",
   
   ]
  },
  {
   "cell_type": "code",
   "execution_count": null,
   "id": "e5362986-aa71-4a4d-af66-f954a8453029",
   "metadata": {},
   "outputs": [],
   "source": []
  }
 ],
 "metadata": {
  "kernelspec": {
   "display_name": "Python 3 (ipykernel)",
   "language": "python",
   "name": "python3"
  },
  "language_info": {
   "codemirror_mode": {
    "name": "ipython",
    "version": 3
   },
   "file_extension": ".py",
   "mimetype": "text/x-python",
   "name": "python",
   "nbconvert_exporter": "python",
   "pygments_lexer": "ipython3",
   "version": "3.12.2"
  }
 },
 "nbformat": 4,
 "nbformat_minor": 5
}
