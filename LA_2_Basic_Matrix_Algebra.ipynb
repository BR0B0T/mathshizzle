{
 "cells": [
  {
   "cell_type": "markdown",
   "id": "04de6c66-f5bb-4bd9-8c87-2ad84f45857b",
   "metadata": {},
   "source": [
    "# ✖️➗ **Basic Matrix Algebra**\n",
    "\n",
    "<br>\n",
    "\n",
    "<div class=\"parent_div\" style=\"text-align:center;\">\n",
    "<img src=\"op_shad.png\" width=\"350\" >\n",
    "</div>\n",
    "\n",
    "<br>"
   ]
  },
  {
   "cell_type": "markdown",
   "id": "428570da-f165-4a41-a3e2-975dc7b7588f",
   "metadata": {},
   "source": [
    "### 🔍 **What is SymPy?**\n",
    "\n",
    "SymPy is a Python library for symbolic mathematics,meaning it can manipulate algebraic expressions and equations symbolically, not just numerically like NumPy or SciPy. It will be great in the following examples to show what's happening symbolically but it's much more more likely that I'd use NumPy for calculations\n",
    "\n",
    "Import libraries..."
   ]
  },
  {
   "cell_type": "code",
   "execution_count": 1,
   "id": "eea60f00-ad7e-430a-9def-1f182ea7099f",
   "metadata": {},
   "outputs": [],
   "source": [
    "import numpy as np\n",
    "import sympy as sy"
   ]
  },
  {
   "cell_type": "markdown",
   "id": "ebbb654b-6307-4a0f-9c5e-7900de5bc737",
   "metadata": {},
   "source": [
    "Let's  define a little helper to assist in rounding numbers, making things easier to read!"
   ]
  },
  {
   "cell_type": "code",
   "execution_count": 2,
   "id": "056dabca-e90a-4356-9775-214eab73a9de",
   "metadata": {},
   "outputs": [],
   "source": [
    "def round_expr(expr, num_digits):\n",
    "    return expr.xreplace({n : round(n, num_digits) for n in expr.atoms(sy.Number)})"
   ]
  },
  {
   "cell_type": "markdown",
   "id": "375cf226-43be-406d-8d31-6d026c534004",
   "metadata": {},
   "source": [
    "<br>\n",
    "\n",
    "## ➕ **Matrix Addition**\n",
    "\n",
    "Matrix addition is the operation of adding two matrices by adding their corresponding elements.\n",
    "\n",
    "#### ✅ Key Points:\n",
    "\n",
    "* The matrices must be of the **same size** (same number of rows and columns).\n",
    "* Each element in the result is the **sum of the elements** in the same position.\n",
    "\n",
    "#### 📌 Example:\n",
    "\n",
    "$$\n",
    "A = \\begin{bmatrix} 1 & 2 \\\\ 3 & 4 \\end{bmatrix}, \\quad\n",
    "B = \\begin{bmatrix} 5 & 6 \\\\ 7 & 8 \\end{bmatrix}\n",
    "$$\n",
    "\n",
    "$$\n",
    "A + B = \\begin{bmatrix}\n",
    "1+5 & 2+6 \\\\\n",
    "3+7 & 4+8\n",
    "\\end{bmatrix}\n",
    "=\n",
    "\\begin{bmatrix}\n",
    "6 & 8 \\\\\n",
    "10 & 12\n",
    "\\end{bmatrix}\n",
    "$$\n",
    "\n",
    "Matrix addition is commutative and associative \n",
    "\n",
    "- $A+ B= B+ A$\n",
    "- $(A+B)+ C=A+(B+C)$"
   ]
  },
  {
   "cell_type": "markdown",
   "id": "fb230473-5313-456c-adae-047a19739679",
   "metadata": {},
   "source": [
    "### 🎯 **Examples**\n",
    "\n",
    "Let's see some examples using the SymPy library\n",
    "\n",
    "#### 🧠 What Are sympy.symbols?\n",
    "\n",
    "In SymPy, symbols are used to define mathematical variables for symbolic computation (like $x$, $y$, $z$).\n",
    "\n",
    "#### ✅ Basic Usage:\n",
    "\n",
    "```python\n",
    "from sympy import symbols\n",
    "\n",
    "x = symbols('x')\n",
    "```\n",
    "\n",
    "Now `x` is treated as a symbolic variable, not a number.\n",
    "\n",
    "It's probably easier to define all the letters as symbols at this stage to allow for repeated use. "
   ]
  },
  {
   "cell_type": "code",
   "execution_count": 6,
   "id": "2f74e926-6765-48f9-af7d-ebcdf20a9365",
   "metadata": {},
   "outputs": [],
   "source": [
    "a, b, c, d, e, f, g, h, i, j, k, l, m, n, o, p, q, r, s, t, u, v, w, x, y, z = sy.symbols('a, b, c, d, e, f, g, h, i, j, k, l, m, n, o, p, q, r, s, t, u, v, w, x, y, z', real = True)"
   ]
  },
  {
   "cell_type": "markdown",
   "id": "97b38885-301f-4dee-8d27-a67b43f4f4f9",
   "metadata": {},
   "source": [
    "Now we can define a matrix $A$..."
   ]
  },
  {
   "cell_type": "code",
   "execution_count": 7,
   "id": "46204fcb-70d3-4f48-b5cd-a83bc16b541d",
   "metadata": {},
   "outputs": [
    {
     "data": {
      "text/latex": [
       "$\\displaystyle \\left[\\begin{matrix}a & b & c\\\\d & e & f\\end{matrix}\\right]$"
      ],
      "text/plain": [
       "Matrix([\n",
       "[a, b, c],\n",
       "[d, e, f]])"
      ]
     },
     "execution_count": 7,
     "metadata": {},
     "output_type": "execute_result"
    }
   ],
   "source": [
    "A = sy.Matrix([[a, b, c], [d, e, f]])\n",
    "A"
   ]
  },
  {
   "cell_type": "markdown",
   "id": "acedc2f0-1873-40a1-8e21-abd0ec431497",
   "metadata": {},
   "source": [
    "Addition: A + A"
   ]
  },
  {
   "cell_type": "code",
   "execution_count": 8,
   "id": "5d562d14-9a20-4b8d-a135-6af7a1c63156",
   "metadata": {},
   "outputs": [
    {
     "data": {
      "text/latex": [
       "$\\displaystyle \\left[\\begin{matrix}2 a & 2 b & 2 c\\\\2 d & 2 e & 2 f\\end{matrix}\\right]$"
      ],
      "text/plain": [
       "Matrix([\n",
       "[2*a, 2*b, 2*c],\n",
       "[2*d, 2*e, 2*f]])"
      ]
     },
     "execution_count": 8,
     "metadata": {},
     "output_type": "execute_result"
    }
   ],
   "source": [
    "A + A"
   ]
  },
  {
   "cell_type": "code",
   "execution_count": 9,
   "id": "111c1c96-b4a1-4f3c-a8f1-8d638dee16f3",
   "metadata": {},
   "outputs": [],
   "source": [
    "Subtraction: A - A"
   ]
  },
  {
   "cell_type": "code",
   "execution_count": 10,
   "id": "c8f13ab0-9464-4576-b9c2-0cbdeb611709",
   "metadata": {},
   "outputs": [
    {
     "data": {
      "text/latex": [
       "$\\displaystyle \\left[\\begin{matrix}0 & 0 & 0\\\\0 & 0 & 0\\end{matrix}\\right]$"
      ],
      "text/plain": [
       "Matrix([\n",
       "[0, 0, 0],\n",
       "[0, 0, 0]])"
      ]
     },
     "execution_count": 10,
     "metadata": {},
     "output_type": "execute_result"
    }
   ],
   "source": [
    "A - A"
   ]
  },
  {
   "cell_type": "markdown",
   "id": "4d92f4dc-ca7c-497f-b01b-bda89e8822f1",
   "metadata": {},
   "source": [
    "Define another matrix $B$..."
   ]
  },
  {
   "cell_type": "code",
   "execution_count": 12,
   "id": "cb8f7397-e57f-4e85-afb5-38e8afd4c3d9",
   "metadata": {},
   "outputs": [
    {
     "data": {
      "text/latex": [
       "$\\displaystyle \\left[\\begin{matrix}g & h & i\\\\j & k & l\\end{matrix}\\right]$"
      ],
      "text/plain": [
       "Matrix([\n",
       "[g, h, i],\n",
       "[j, k, l]])"
      ]
     },
     "execution_count": 12,
     "metadata": {},
     "output_type": "execute_result"
    }
   ],
   "source": [
    "B = sy.Matrix([[g, h, i], [j, k, l]])\n",
    "B"
   ]
  },
  {
   "cell_type": "code",
   "execution_count": 13,
   "id": "e4557094-0797-4910-9648-550ad968bac0",
   "metadata": {},
   "outputs": [],
   "source": [
    "Addition: A + B"
   ]
  },
  {
   "cell_type": "code",
   "execution_count": 14,
   "id": "96cfd463-0c44-454b-91d8-9ae55298ac2d",
   "metadata": {},
   "outputs": [
    {
     "data": {
      "text/latex": [
       "$\\displaystyle \\left[\\begin{matrix}a + g & b + h & c + i\\\\d + j & e + k & f + l\\end{matrix}\\right]$"
      ],
      "text/plain": [
       "Matrix([\n",
       "[a + g, b + h, c + i],\n",
       "[d + j, e + k, f + l]])"
      ]
     },
     "execution_count": 14,
     "metadata": {},
     "output_type": "execute_result"
    }
   ],
   "source": [
    "A + B"
   ]
  },
  {
   "cell_type": "markdown",
   "id": "c6af2c86-5b2f-4bd7-8734-dcb18d330593",
   "metadata": {},
   "source": [
    "Subtraction: A - B"
   ]
  },
  {
   "cell_type": "code",
   "execution_count": 15,
   "id": "dcd9fd5b-9181-42f8-a3ca-bc079b122b56",
   "metadata": {},
   "outputs": [
    {
     "data": {
      "text/latex": [
       "$\\displaystyle \\left[\\begin{matrix}a - g & b - h & c - i\\\\d - j & e - k & f - l\\end{matrix}\\right]$"
      ],
      "text/plain": [
       "Matrix([\n",
       "[a - g, b - h, c - i],\n",
       "[d - j, e - k, f - l]])"
      ]
     },
     "execution_count": 15,
     "metadata": {},
     "output_type": "execute_result"
    }
   ],
   "source": [
    "A - B"
   ]
  },
  {
   "cell_type": "markdown",
   "id": "ea3125d8-a00f-4fea-863c-3fc617a12866",
   "metadata": {},
   "source": [
    "## ✖️ **Matrix Multiplication**\n",
    "\n",
    "It's important to distinguish between two types of multiplication: Hadamard multiplication, which is element-wise, and standard matrix multiplication, \n",
    "\n",
    "### 🔹 1. **Dot Product (Matrix Product / Linear Algebra Multiplication)**\n",
    "\n",
    "Also called the **standard matrix multiplication**. This is what you usually mean when you say “matrix multiplication” in linear algebra.\n",
    "\n",
    "#### ✅ Key Features:\n",
    "\n",
    "* Combine rows of the first matrix with columns of the second.\n",
    "* Result: matrix with new dimensions.\n",
    "* Follows **algebraic rules** (e.g. used in solving systems, transformations).\n",
    "\n",
    "#### 🎯 **Examples**\n"
   ]
  },
  {
   "cell_type": "markdown",
   "id": "262ef604-9995-4143-a85b-ac1856705b5e",
   "metadata": {},
   "source": [
    "Define matrix A"
   ]
  },
  {
   "cell_type": "code",
   "execution_count": 26,
   "id": "68bceafa-e96f-4d38-be8a-8f759b711834",
   "metadata": {},
   "outputs": [
    {
     "data": {
      "text/latex": [
       "$\\displaystyle \\left[\\begin{matrix}a & b\\\\c & d\\end{matrix}\\right]$"
      ],
      "text/plain": [
       "Matrix([\n",
       "[a, b],\n",
       "[c, d]])"
      ]
     },
     "execution_count": 26,
     "metadata": {},
     "output_type": "execute_result"
    }
   ],
   "source": [
    "A = sy.Matrix([[a, b], [c, d]])\n",
    "A"
   ]
  },
  {
   "cell_type": "markdown",
   "id": "e6aca4cc-9ed1-4b6a-ba53-8259eccad2ae",
   "metadata": {},
   "source": [
    "Define matrix B"
   ]
  },
  {
   "cell_type": "code",
   "execution_count": 27,
   "id": "c53b2ea8-2b62-4322-a309-07501333757d",
   "metadata": {},
   "outputs": [
    {
     "data": {
      "text/latex": [
       "$\\displaystyle \\left[\\begin{matrix}e & f\\\\g & h\\end{matrix}\\right]$"
      ],
      "text/plain": [
       "Matrix([\n",
       "[e, f],\n",
       "[g, h]])"
      ]
     },
     "execution_count": 27,
     "metadata": {},
     "output_type": "execute_result"
    }
   ],
   "source": [
    "B = sy.Matrix([[e, f], [g, h]])\n",
    "B"
   ]
  },
  {
   "cell_type": "markdown",
   "id": "0a018bf1-352f-4b3a-b68f-f7207233f4e8",
   "metadata": {},
   "source": [
    "Find the dot product..."
   ]
  },
  {
   "cell_type": "code",
   "execution_count": 28,
   "id": "637dcbe9-6102-4858-b680-06c557489431",
   "metadata": {},
   "outputs": [
    {
     "data": {
      "text/latex": [
       "$\\displaystyle \\left[\\begin{matrix}a e + b g & a f + b h\\\\c e + d g & c f + d h\\end{matrix}\\right]$"
      ],
      "text/plain": [
       "Matrix([\n",
       "[a*e + b*g, a*f + b*h],\n",
       "[c*e + d*g, c*f + d*h]])"
      ]
     },
     "execution_count": 28,
     "metadata": {},
     "output_type": "execute_result"
    }
   ],
   "source": [
    "A * B"
   ]
  },
  {
   "cell_type": "markdown",
   "id": "64af5707-76a3-4183-906f-91805b7fb231",
   "metadata": {},
   "source": [
    "A numerical example"
   ]
  },
  {
   "cell_type": "code",
   "execution_count": 23,
   "id": "d664877d-349d-44bb-8eaf-43eab2d2fb69",
   "metadata": {},
   "outputs": [
    {
     "data": {
      "text/latex": [
       "$\\displaystyle \\left[\\begin{matrix}19 & 22\\\\43 & 50\\end{matrix}\\right]$"
      ],
      "text/plain": [
       "Matrix([\n",
       "[19, 22],\n",
       "[43, 50]])"
      ]
     },
     "execution_count": 23,
     "metadata": {},
     "output_type": "execute_result"
    }
   ],
   "source": [
    "A = sy.Matrix([[1, 2], [3, 4]])\n",
    "B = sy.Matrix([[5, 6], [7, 8]])\n",
    "\n",
    "A * B"
   ]
  },
  {
   "cell_type": "markdown",
   "id": "274cb365-3e05-4296-9e96-2b0cdc7db0d3",
   "metadata": {},
   "source": [
    "### 🔹 2. **Hadamard Product (Element-wise Multiplication)**\n",
    "\n",
    "Also called **entrywise** or **component-wise** multiplication.\n",
    "\n",
    "#### ✅ Key Features:\n",
    "\n",
    "* Multiply each corresponding element.\n",
    "* Both matrices must be **the same size**.\n",
    "* Not the same as dot product!\n",
    "\n",
    "an example using the same matrices $A$ & $B$ that we used above, notice the different values"
   ]
  },
  {
   "cell_type": "code",
   "execution_count": 33,
   "id": "1afa5496-daa2-4279-be13-4477118fe1eb",
   "metadata": {},
   "outputs": [
    {
     "data": {
      "text/latex": [
       "$\\displaystyle \\left[\\begin{matrix}5 & 12\\\\21 & 32\\end{matrix}\\right]$"
      ],
      "text/plain": [
       "Matrix([\n",
       "[ 5, 12],\n",
       "[21, 32]])"
      ]
     },
     "execution_count": 33,
     "metadata": {},
     "output_type": "execute_result"
    }
   ],
   "source": [
    "A = sy.Matrix([[1, 2], [3, 4]])\n",
    "B = sy.Matrix([[5, 6], [7, 8]])\n",
    "\n",
    "A.multiply_elementwise(B)"
   ]
  },
  {
   "cell_type": "markdown",
   "id": "b9a1cca1-3ace-42aa-9298-8bbd927544f3",
   "metadata": {},
   "source": [
    "Let's take a look at this symbolically to see what is going on."
   ]
  },
  {
   "cell_type": "code",
   "execution_count": 35,
   "id": "3ca7e152-ac01-451c-999e-beacf9ed6560",
   "metadata": {},
   "outputs": [
    {
     "data": {
      "text/latex": [
       "$\\displaystyle \\left[\\begin{matrix}a e & b f\\\\c g & d h\\end{matrix}\\right]$"
      ],
      "text/plain": [
       "Matrix([\n",
       "[a*e, b*f],\n",
       "[c*g, d*h]])"
      ]
     },
     "execution_count": 35,
     "metadata": {},
     "output_type": "execute_result"
    }
   ],
   "source": [
    "A = sy.Matrix([[a, b], [c, d]])\n",
    "B = sy.Matrix([[e, f], [g, h]])\n",
    "\n",
    "A.multiply_elementwise(B)"
   ]
  },
  {
   "cell_type": "markdown",
   "id": "ba854099-b21a-44b8-b9a9-42ef19a14a99",
   "metadata": {},
   "source": [
    "## 🔁 **Commutativity in Matrix Multiplication**\n",
    "\n",
    "In general, matrix multiplication is ***not*** commutative.\n",
    "\n",
    "That is:\n",
    "\n",
    "$$\n",
    "AB \\ne BA \\quad \\text{(in most cases)}\n",
    "$$\n",
    "\n",
    "#### ❌ **Why Isn’t It Commutative?**\n",
    "\n",
    "Unlike scalar multiplication, the order of matrix multiplication matters because the structure and dimensions of the matrices affect the result.\n",
    "\n"
   ]
  },
  {
   "cell_type": "code",
   "execution_count": 36,
   "id": "8dc21d1f-d777-4b6a-bf00-2e62bc1b46e5",
   "metadata": {},
   "outputs": [
    {
     "data": {
      "text/latex": [
       "$\\displaystyle \\left[\\begin{matrix}a e + b g & a f + b h\\\\c e + d g & c f + d h\\end{matrix}\\right]$"
      ],
      "text/plain": [
       "Matrix([\n",
       "[a*e + b*g, a*f + b*h],\n",
       "[c*e + d*g, c*f + d*h]])"
      ]
     },
     "execution_count": 36,
     "metadata": {},
     "output_type": "execute_result"
    }
   ],
   "source": [
    "A = sy.Matrix([[a, b], [c, d]])\n",
    "B = sy.Matrix([[e, f], [g, h]])\n",
    "\n",
    "A * B"
   ]
  },
  {
   "cell_type": "markdown",
   "id": "4c715efc-1721-4234-bd6c-6e94851e9684",
   "metadata": {},
   "source": [
    "Changing the order of the matrices..."
   ]
  },
  {
   "cell_type": "code",
   "execution_count": 38,
   "id": "9611b398-de30-4a48-b66d-adf6bab24227",
   "metadata": {},
   "outputs": [
    {
     "data": {
      "text/latex": [
       "$\\displaystyle \\left[\\begin{matrix}a e + c f & b e + d f\\\\a g + c h & b g + d h\\end{matrix}\\right]$"
      ],
      "text/plain": [
       "Matrix([\n",
       "[a*e + c*f, b*e + d*f],\n",
       "[a*g + c*h, b*g + d*h]])"
      ]
     },
     "execution_count": 38,
     "metadata": {},
     "output_type": "execute_result"
    }
   ],
   "source": [
    "B * A"
   ]
  },
  {
   "cell_type": "markdown",
   "id": "f4a3aab0-0635-4340-a8c7-be74b021a885",
   "metadata": {},
   "source": [
    "<br>\n",
    "\n",
    "### ✅ **When Is Matrix Multiplication Commutative?**\n",
    "\n",
    "Matrix multiplication can be commutative in special cases:\n",
    "\n",
    "1. If $A = B$ and they commute, e.g., diagonal matrices:\n",
    "\n",
    "   $$\n",
    "   A = \\begin{bmatrix}a & 0\\\\0 & b\\end{bmatrix}, \\quad AB = BA\n",
    "   $$\n",
    "2. If one matrix is the identity matrix:\n",
    "\n",
    "   $$\n",
    "   AI = IA = A\n",
    "   $$\n",
    "3. If both matrices are scalar multiples of the identity matrix.\n",
    "4. If $A$ and $B$ are both powers of the same diagonalizable matrix.\n",
    "\n",
    "\n",
    "### 🔁 **Summary:**\n",
    "\n",
    "| Case                                       | Commutative? |\n",
    "| ------------------------------------------ | ------------ |\n",
    "| General matrices                           | ❌ No         |\n",
    "| Identity matrix involved                   | ✅ Yes        |\n",
    "| Diagonal matrices                          | ✅ Often      |\n",
    "| Special cases (e.g. powers of same matrix) | ✅ Sometimes  |"
   ]
  },
  {
   "cell_type": "code",
   "execution_count": null,
   "id": "84a20998-ab0e-4013-8b91-8c3c72411ccc",
   "metadata": {},
   "outputs": [],
   "source": []
  }
 ],
 "metadata": {
  "kernelspec": {
   "display_name": "Python 3 (ipykernel)",
   "language": "python",
   "name": "python3"
  },
  "language_info": {
   "codemirror_mode": {
    "name": "ipython",
    "version": 3
   },
   "file_extension": ".py",
   "mimetype": "text/x-python",
   "name": "python",
   "nbconvert_exporter": "python",
   "pygments_lexer": "ipython3",
   "version": "3.12.2"
  }
 },
 "nbformat": 4,
 "nbformat_minor": 5
}
